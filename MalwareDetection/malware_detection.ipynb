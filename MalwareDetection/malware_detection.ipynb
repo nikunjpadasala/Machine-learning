{
  "nbformat": 4,
  "nbformat_minor": 0,
  "metadata": {
    "colab": {
      "name": "malware detection.ipynb",
      "provenance": []
    },
    "kernelspec": {
      "name": "python3",
      "display_name": "Python 3"
    },
    "language_info": {
      "name": "python"
    }
  },
  "cells": [
    {
      "cell_type": "code",
      "metadata": {
        "id": "N9FdAc3VkQWx"
      },
      "source": [
        "pip install pefile"
      ],
      "execution_count": null,
      "outputs": []
    },
    {
      "cell_type": "code",
      "metadata": {
        "colab": {
          "base_uri": "https://localhost:8080/"
        },
        "id": "foHPfsgCly0u",
        "outputId": "66fd8fbb-8c46-4fdf-a5ab-941415bc73ea"
      },
      "source": [
        "import pandas as pd\n",
        "\n",
        "malData = pd.read_csv(\"/content/MalwareData.csv\", sep =\"|\")\n",
        "\n",
        "legit = malData[0:41323].drop([\"legitimate\"], axis=1)\n",
        "mal = malData[41323::].drop([\"legitimate\"], axis=1)\n",
        "\n",
        "print('The shape of the legit dataset is: %s sample, %s features'%(legit.shape[0],legit.shape[1]))\n",
        "print('The shape of the malware dataset is: %s sample, %s features'%(mal.shape[0],mal.shape[1]))"
      ],
      "execution_count": 3,
      "outputs": [
        {
          "output_type": "stream",
          "name": "stdout",
          "text": [
            "The shape of the legit dataset is: 41323 sample, 56 features\n",
            "The shape of the malware dataset is: 96724 sample, 56 features\n"
          ]
        }
      ]
    },
    {
      "cell_type": "code",
      "metadata": {
        "colab": {
          "base_uri": "https://localhost:8080/"
        },
        "id": "aakA6BuBn6Qn",
        "outputId": "10780e1e-c37d-40b9-fb96-abffae1d5271"
      },
      "source": [
        "print(malData.columns)"
      ],
      "execution_count": 5,
      "outputs": [
        {
          "output_type": "stream",
          "name": "stdout",
          "text": [
            "Index(['Name', 'md5', 'Machine', 'SizeOfOptionalHeader', 'Characteristics',\n",
            "       'MajorLinkerVersion', 'MinorLinkerVersion', 'SizeOfCode',\n",
            "       'SizeOfInitializedData', 'SizeOfUninitializedData',\n",
            "       'AddressOfEntryPoint', 'BaseOfCode', 'BaseOfData', 'ImageBase',\n",
            "       'SectionAlignment', 'FileAlignment', 'MajorOperatingSystemVersion',\n",
            "       'MinorOperatingSystemVersion', 'MajorImageVersion', 'MinorImageVersion',\n",
            "       'MajorSubsystemVersion', 'MinorSubsystemVersion', 'SizeOfImage',\n",
            "       'SizeOfHeaders', 'CheckSum', 'Subsystem', 'DllCharacteristics',\n",
            "       'SizeOfStackReserve', 'SizeOfStackCommit', 'SizeOfHeapReserve',\n",
            "       'SizeOfHeapCommit', 'LoaderFlags', 'NumberOfRvaAndSizes', 'SectionsNb',\n",
            "       'SectionsMeanEntropy', 'SectionsMinEntropy', 'SectionsMaxEntropy',\n",
            "       'SectionsMeanRawsize', 'SectionsMinRawsize', 'SectionMaxRawsize',\n",
            "       'SectionsMeanVirtualsize', 'SectionsMinVirtualsize',\n",
            "       'SectionMaxVirtualsize', 'ImportsNbDLL', 'ImportsNb',\n",
            "       'ImportsNbOrdinal', 'ExportNb', 'ResourcesNb', 'ResourcesMeanEntropy',\n",
            "       'ResourcesMinEntropy', 'ResourcesMaxEntropy', 'ResourcesMeanSize',\n",
            "       'ResourcesMinSize', 'ResourcesMaxSize', 'LoadConfigurationSize',\n",
            "       'VersionInformationSize', 'legitimate'],\n",
            "      dtype='object')\n"
          ]
        }
      ]
    },
    {
      "cell_type": "code",
      "metadata": {
        "colab": {
          "base_uri": "https://localhost:8080/"
        },
        "id": "23I5n7rmoDQj",
        "outputId": "e91e831f-8337-421c-a67b-10d126942273"
      },
      "source": [
        "print(malData.head(5))"
      ],
      "execution_count": 6,
      "outputs": [
        {
          "output_type": "stream",
          "name": "stdout",
          "text": [
            "           Name  ... legitimate\n",
            "0   memtest.exe  ...          1\n",
            "1       ose.exe  ...          1\n",
            "2     setup.exe  ...          1\n",
            "3      DW20.EXE  ...          1\n",
            "4  dwtrig20.exe  ...          1\n",
            "\n",
            "[5 rows x 57 columns]\n"
          ]
        }
      ]
    },
    {
      "cell_type": "code",
      "metadata": {
        "id": "ugeYIY3moVH9"
      },
      "source": [
        "pd.set_option('display.max_columns', None)"
      ],
      "execution_count": 7,
      "outputs": []
    },
    {
      "cell_type": "code",
      "metadata": {
        "colab": {
          "base_uri": "https://localhost:8080/"
        },
        "id": "o3Tf2yUDotDY",
        "outputId": "d7fa1420-c097-4185-a1ee-9429aab1eb24"
      },
      "source": [
        "print(malData.head(5))"
      ],
      "execution_count": 8,
      "outputs": [
        {
          "output_type": "stream",
          "name": "stdout",
          "text": [
            "           Name                               md5  Machine  \\\n",
            "0   memtest.exe  631ea355665f28d4707448e442fbf5b8      332   \n",
            "1       ose.exe  9d10f99a6712e28f8acd5641e3a7ea6b      332   \n",
            "2     setup.exe  4d92f518527353c0db88a70fddcfd390      332   \n",
            "3      DW20.EXE  a41e524f8d45f0074fd07805ff0c9b12      332   \n",
            "4  dwtrig20.exe  c87e561258f2f8650cef999bf643a731      332   \n",
            "\n",
            "   SizeOfOptionalHeader  Characteristics  MajorLinkerVersion  \\\n",
            "0                   224              258                   9   \n",
            "1                   224             3330                   9   \n",
            "2                   224             3330                   9   \n",
            "3                   224              258                   9   \n",
            "4                   224              258                   9   \n",
            "\n",
            "   MinorLinkerVersion  SizeOfCode  SizeOfInitializedData  \\\n",
            "0                   0      361984                 115712   \n",
            "1                   0      130560                  19968   \n",
            "2                   0      517120                 621568   \n",
            "3                   0      585728                 369152   \n",
            "4                   0      294912                 247296   \n",
            "\n",
            "   SizeOfUninitializedData  AddressOfEntryPoint  BaseOfCode  BaseOfData  \\\n",
            "0                        0                 6135        4096      372736   \n",
            "1                        0                81778        4096      143360   \n",
            "2                        0               350896        4096      811008   \n",
            "3                        0               451258        4096      798720   \n",
            "4                        0               217381        4096      536576   \n",
            "\n",
            "     ImageBase  SectionAlignment  FileAlignment  MajorOperatingSystemVersion  \\\n",
            "0    4194304.0              4096            512                            0   \n",
            "1  771751936.0              4096            512                            5   \n",
            "2  771751936.0              4096            512                            5   \n",
            "3  771751936.0              4096            512                            5   \n",
            "4  771751936.0              4096            512                            5   \n",
            "\n",
            "   MinorOperatingSystemVersion  MajorImageVersion  MinorImageVersion  \\\n",
            "0                            0                  0                  0   \n",
            "1                            1                  0                  0   \n",
            "2                            1                  0                  0   \n",
            "3                            1                  0                  0   \n",
            "4                            1                  0                  0   \n",
            "\n",
            "   MajorSubsystemVersion  MinorSubsystemVersion  SizeOfImage  SizeOfHeaders  \\\n",
            "0                      1                      0      1036288           1024   \n",
            "1                      5                      1       159744           1024   \n",
            "2                      5                      1      1150976           1024   \n",
            "3                      5                      1       962560           1024   \n",
            "4                      5                      1       552960           1024   \n",
            "\n",
            "   CheckSum  Subsystem  DllCharacteristics  SizeOfStackReserve  \\\n",
            "0    485887         16                1024             1048576   \n",
            "1    188943          2               33088             1048576   \n",
            "2   1159817          2               32832             1048576   \n",
            "3    867570          2               33088             1048576   \n",
            "4    579287          2               33088             1048576   \n",
            "\n",
            "   SizeOfStackCommit  SizeOfHeapReserve  SizeOfHeapCommit  LoaderFlags  \\\n",
            "0               4096            1048576              4096            0   \n",
            "1               4096            1048576              4096            0   \n",
            "2               4096            1048576              4096            0   \n",
            "3               4096            1048576              4096            0   \n",
            "4               4096            1048576              4096            0   \n",
            "\n",
            "   NumberOfRvaAndSizes  SectionsNb  SectionsMeanEntropy  SectionsMinEntropy  \\\n",
            "0                   16           8             5.766807            3.607430   \n",
            "1                   16           4             4.839688            2.373525   \n",
            "2                   16           4             6.409558            4.885191   \n",
            "3                   16           4             6.641731            5.642565   \n",
            "4                   16           4             6.252684            4.182282   \n",
            "\n",
            "   SectionsMaxEntropy  SectionsMeanRawsize  SectionsMinRawsize  \\\n",
            "0            7.221051              59712.0                1024   \n",
            "1            6.566909              35584.0                2048   \n",
            "2            7.600957             273408.0               21504   \n",
            "3            7.594929             207872.0               15360   \n",
            "4            7.608305             128128.0                2560   \n",
            "\n",
            "   SectionMaxRawsize  SectionsMeanVirtualsize  SectionsMinVirtualsize  \\\n",
            "0             325120               126875.875                     896   \n",
            "1             130560                37322.000                    1840   \n",
            "2             517120               284498.000                   21456   \n",
            "3             585728               238502.000                   15208   \n",
            "4             294912               135350.000                    2320   \n",
            "\n",
            "   SectionMaxVirtualsize  ImportsNbDLL  ImportsNb  ImportsNbOrdinal  ExportNb  \\\n",
            "0                 551848             0          0                 0         0   \n",
            "1                 130296             7        181                 0         0   \n",
            "2                 516760            14        235                21         1   \n",
            "3                 585488            15        360                 6         1   \n",
            "4                 294816            10        194                 4         1   \n",
            "\n",
            "   ResourcesNb  ResourcesMeanEntropy  ResourcesMinEntropy  \\\n",
            "0            4              3.262823             2.568844   \n",
            "1            2              4.250461             3.420744   \n",
            "2           11              4.426324             2.846449   \n",
            "3           10              4.364291             2.669314   \n",
            "4            2              4.306100             3.421598   \n",
            "\n",
            "   ResourcesMaxEntropy  ResourcesMeanSize  ResourcesMinSize  ResourcesMaxSize  \\\n",
            "0             3.537939        8797.000000               216             18032   \n",
            "1             5.080177         837.000000               518              1156   \n",
            "2             5.271813       31102.272727               104            270376   \n",
            "3             6.400720        1457.000000                90              4264   \n",
            "4             5.190603        1074.500000               849              1300   \n",
            "\n",
            "   LoadConfigurationSize  VersionInformationSize  legitimate  \n",
            "0                      0                      16           1  \n",
            "1                     72                      18           1  \n",
            "2                     72                      18           1  \n",
            "3                     72                      18           1  \n",
            "4                     72                      18           1  \n"
          ]
        }
      ]
    },
    {
      "cell_type": "code",
      "metadata": {
        "colab": {
          "base_uri": "https://localhost:8080/"
        },
        "id": "PNUJ_paqowVj",
        "outputId": "9c8809ed-0da4-49c9-942a-a6aacaf7c189"
      },
      "source": [
        "print(legit.take([1]))"
      ],
      "execution_count": 9,
      "outputs": [
        {
          "output_type": "stream",
          "name": "stdout",
          "text": [
            "      Name                               md5  Machine  SizeOfOptionalHeader  \\\n",
            "1  ose.exe  9d10f99a6712e28f8acd5641e3a7ea6b      332                   224   \n",
            "\n",
            "   Characteristics  MajorLinkerVersion  MinorLinkerVersion  SizeOfCode  \\\n",
            "1             3330                   9                   0      130560   \n",
            "\n",
            "   SizeOfInitializedData  SizeOfUninitializedData  AddressOfEntryPoint  \\\n",
            "1                  19968                        0                81778   \n",
            "\n",
            "   BaseOfCode  BaseOfData    ImageBase  SectionAlignment  FileAlignment  \\\n",
            "1        4096      143360  771751936.0              4096            512   \n",
            "\n",
            "   MajorOperatingSystemVersion  MinorOperatingSystemVersion  \\\n",
            "1                            5                            1   \n",
            "\n",
            "   MajorImageVersion  MinorImageVersion  MajorSubsystemVersion  \\\n",
            "1                  0                  0                      5   \n",
            "\n",
            "   MinorSubsystemVersion  SizeOfImage  SizeOfHeaders  CheckSum  Subsystem  \\\n",
            "1                      1       159744           1024    188943          2   \n",
            "\n",
            "   DllCharacteristics  SizeOfStackReserve  SizeOfStackCommit  \\\n",
            "1               33088             1048576               4096   \n",
            "\n",
            "   SizeOfHeapReserve  SizeOfHeapCommit  LoaderFlags  NumberOfRvaAndSizes  \\\n",
            "1            1048576              4096            0                   16   \n",
            "\n",
            "   SectionsNb  SectionsMeanEntropy  SectionsMinEntropy  SectionsMaxEntropy  \\\n",
            "1           4             4.839688            2.373525            6.566909   \n",
            "\n",
            "   SectionsMeanRawsize  SectionsMinRawsize  SectionMaxRawsize  \\\n",
            "1              35584.0                2048             130560   \n",
            "\n",
            "   SectionsMeanVirtualsize  SectionsMinVirtualsize  SectionMaxVirtualsize  \\\n",
            "1                  37322.0                    1840                 130296   \n",
            "\n",
            "   ImportsNbDLL  ImportsNb  ImportsNbOrdinal  ExportNb  ResourcesNb  \\\n",
            "1             7        181                 0         0            2   \n",
            "\n",
            "   ResourcesMeanEntropy  ResourcesMinEntropy  ResourcesMaxEntropy  \\\n",
            "1              4.250461             3.420744             5.080177   \n",
            "\n",
            "   ResourcesMeanSize  ResourcesMinSize  ResourcesMaxSize  \\\n",
            "1              837.0               518              1156   \n",
            "\n",
            "   LoadConfigurationSize  VersionInformationSize  \n",
            "1                     72                      18  \n"
          ]
        }
      ]
    },
    {
      "cell_type": "code",
      "metadata": {
        "colab": {
          "base_uri": "https://localhost:8080/"
        },
        "id": "QCA29v65o5r6",
        "outputId": "975565f5-3bdb-4c0a-bb3f-a5cd48191b66"
      },
      "source": [
        "print(mal.take([1]))"
      ],
      "execution_count": 10,
      "outputs": [
        {
          "output_type": "stream",
          "name": "stdout",
          "text": [
            "                                              Name  \\\n",
            "41324  VirusShare_9bd57c8252948bd2fa651ad372bd4f13   \n",
            "\n",
            "                                    md5  Machine  SizeOfOptionalHeader  \\\n",
            "41324  9bd57c8252948bd2fa651ad372bd4f13      332                   224   \n",
            "\n",
            "       Characteristics  MajorLinkerVersion  MinorLinkerVersion  SizeOfCode  \\\n",
            "41324              271                   6                   0       24064   \n",
            "\n",
            "       SizeOfInitializedData  SizeOfUninitializedData  AddressOfEntryPoint  \\\n",
            "41324                 164864                     1024                12538   \n",
            "\n",
            "       BaseOfCode  BaseOfData  ImageBase  SectionAlignment  FileAlignment  \\\n",
            "41324        4096       28672  4194304.0              4096            512   \n",
            "\n",
            "       MajorOperatingSystemVersion  MinorOperatingSystemVersion  \\\n",
            "41324                            4                            0   \n",
            "\n",
            "       MajorImageVersion  MinorImageVersion  MajorSubsystemVersion  \\\n",
            "41324                  6                  0                      4   \n",
            "\n",
            "       MinorSubsystemVersion  SizeOfImage  SizeOfHeaders  CheckSum  Subsystem  \\\n",
            "41324                      0       241664           1024         0          2   \n",
            "\n",
            "       DllCharacteristics  SizeOfStackReserve  SizeOfStackCommit  \\\n",
            "41324               32768             1048576               4096   \n",
            "\n",
            "       SizeOfHeapReserve  SizeOfHeapCommit  LoaderFlags  NumberOfRvaAndSizes  \\\n",
            "41324            1048576              4096            0                   16   \n",
            "\n",
            "       SectionsNb  SectionsMeanEntropy  SectionsMinEntropy  \\\n",
            "41324           5             4.104541                 0.0   \n",
            "\n",
            "       SectionsMaxEntropy  SectionsMeanRawsize  SectionsMinRawsize  \\\n",
            "41324            6.440106               6758.4                   0   \n",
            "\n",
            "       SectionMaxRawsize  SectionsMeanVirtualsize  SectionsMinVirtualsize  \\\n",
            "41324              24064                  46260.8                    3144   \n",
            "\n",
            "       SectionMaxVirtualsize  ImportsNbDLL  ImportsNb  ImportsNbOrdinal  \\\n",
            "41324                 154712             8        155                 1   \n",
            "\n",
            "       ExportNb  ResourcesNb  ResourcesMeanEntropy  ResourcesMinEntropy  \\\n",
            "41324         0            6              3.199107             1.971335   \n",
            "\n",
            "       ResourcesMaxEntropy  ResourcesMeanSize  ResourcesMinSize  \\\n",
            "41324             5.214816              452.0                34   \n",
            "\n",
            "       ResourcesMaxSize  LoadConfigurationSize  VersionInformationSize  \n",
            "41324               958                      0                      15  \n"
          ]
        }
      ]
    },
    {
      "cell_type": "markdown",
      "metadata": {
        "id": "BsB_1z79pxL2"
      },
      "source": [
        "**Tree Classifier**"
      ]
    },
    {
      "cell_type": "code",
      "metadata": {
        "colab": {
          "base_uri": "https://localhost:8080/"
        },
        "id": "K6do9cATrArj",
        "outputId": "8e0b7226-b254-4480-91ba-c6ed713da2a4"
      },
      "source": [
        "pip install sklearn\n"
      ],
      "execution_count": 13,
      "outputs": [
        {
          "output_type": "stream",
          "name": "stdout",
          "text": [
            "Requirement already satisfied: sklearn in /usr/local/lib/python3.7/dist-packages (0.0)\n",
            "Requirement already satisfied: scikit-learn in /usr/local/lib/python3.7/dist-packages (from sklearn) (1.0.1)\n",
            "Requirement already satisfied: scipy>=1.1.0 in /usr/local/lib/python3.7/dist-packages (from scikit-learn->sklearn) (1.4.1)\n",
            "Requirement already satisfied: numpy>=1.14.6 in /usr/local/lib/python3.7/dist-packages (from scikit-learn->sklearn) (1.19.5)\n",
            "Requirement already satisfied: threadpoolctl>=2.0.0 in /usr/local/lib/python3.7/dist-packages (from scikit-learn->sklearn) (3.0.0)\n",
            "Requirement already satisfied: joblib>=0.11 in /usr/local/lib/python3.7/dist-packages (from scikit-learn->sklearn) (1.1.0)\n"
          ]
        }
      ]
    },
    {
      "cell_type": "code",
      "metadata": {
        "id": "cbGJZmpbp198"
      },
      "source": [
        "from sklearn.ensemble import ExtraTreesClassifier\n",
        "from sklearn.feature_selection import SelectFromModel\n",
        "from sklearn.model_selection import train_test_split\n",
        "from sklearn import model_selection"
      ],
      "execution_count": 15,
      "outputs": []
    },
    {
      "cell_type": "code",
      "metadata": {
        "colab": {
          "base_uri": "https://localhost:8080/"
        },
        "id": "Egzjkfd0qVwi",
        "outputId": "d8d7f2bc-0d18-433c-84c8-945992b6f7f2"
      },
      "source": [
        "data_in = malData.drop(['Name', 'md5', 'legitimate'], axis=1).values\n",
        "labels = malData['legitimate'].values\n",
        "extratrees = ExtraTreesClassifier().fit(data_in,labels)\n",
        "select = SelectFromModel(extratrees, prefit=True)\n",
        "data_in_new = select.transform(data_in)\n",
        "print(data_in.shape,data_in_new.shape)"
      ],
      "execution_count": 23,
      "outputs": [
        {
          "output_type": "stream",
          "name": "stdout",
          "text": [
            "(138047, 54) (138047, 14)\n"
          ]
        }
      ]
    },
    {
      "cell_type": "code",
      "metadata": {
        "colab": {
          "base_uri": "https://localhost:8080/"
        },
        "id": "FiT6I40Vsb2A",
        "outputId": "791a3723-3428-4900-cfec-76ccf8fdccb6"
      },
      "source": [
        "import numpy as np\n",
        "features = data_in_new.shape[1]\n",
        "importances = extratrees.feature_importances_\n",
        "indices = np.argsort(importances)[::1]\n",
        "\n",
        "for f in range(features):\n",
        "  print(\"%d\"%(f+1),malData.columns[2+indices[f]], importances[indices[f]])"
      ],
      "execution_count": 24,
      "outputs": [
        {
          "output_type": "stream",
          "name": "stdout",
          "text": [
            "1 LoaderFlags 4.072113603500216e-06\n",
            "2 NumberOfRvaAndSizes 5.493368436362563e-05\n",
            "3 SizeOfHeapCommit 0.00030661440472077304\n",
            "4 SizeOfUninitializedData 0.0004805800614229898\n",
            "5 BaseOfCode 0.0011773513400901328\n",
            "6 SizeOfInitializedData 0.0011943158756324431\n",
            "7 ResourcesMeanSize 0.001208527143425095\n",
            "8 ResourcesMaxSize 0.0012149898351858797\n",
            "9 SectionMaxVirtualsize 0.0012227946530367422\n",
            "10 SizeOfImage 0.0012472137120759384\n",
            "11 SectionMaxRawsize 0.0012767484550657614\n",
            "12 SectionsMeanRawsize 0.001292666832903516\n",
            "13 SectionsMeanVirtualsize 0.0013386636375670117\n",
            "14 SizeOfCode 0.0015249634120791675\n"
          ]
        }
      ]
    },
    {
      "cell_type": "markdown",
      "metadata": {
        "id": "9zNWOQs6wIxD"
      },
      "source": [
        "**Random Forest**"
      ]
    },
    {
      "cell_type": "code",
      "metadata": {
        "colab": {
          "base_uri": "https://localhost:8080/"
        },
        "id": "k1bfmYRxtkXy",
        "outputId": "f2be1cb2-b76c-456a-af72-a90208ac78ae"
      },
      "source": [
        "from sklearn.ensemble import RandomForestClassifier\n",
        "legit_train, legit_test, mal_train, mal_test = model_selection.train_test_split(data_in_new, labels, test_size=0.2)\n",
        "classif = RandomForestClassifier(n_estimators=50)\n",
        "\n",
        "classif.fit(legit_train,mal_train)"
      ],
      "execution_count": 26,
      "outputs": [
        {
          "output_type": "execute_result",
          "data": {
            "text/plain": [
              "RandomForestClassifier(n_estimators=50)"
            ]
          },
          "metadata": {},
          "execution_count": 26
        }
      ]
    },
    {
      "cell_type": "code",
      "metadata": {
        "colab": {
          "base_uri": "https://localhost:8080/"
        },
        "id": "_JApGKB_vhqB",
        "outputId": "180ea81c-09c7-41d6-e6c4-2ca2c028ea6b"
      },
      "source": [
        "print(\"The score of the alogoritm: \", classif.score(legit_test,mal_test)*100)"
      ],
      "execution_count": 27,
      "outputs": [
        {
          "output_type": "stream",
          "name": "stdout",
          "text": [
            "The score of the alogoritm:  99.44223107569721\n"
          ]
        }
      ]
    },
    {
      "cell_type": "markdown",
      "metadata": {
        "id": "honfdPeHw7m6"
      },
      "source": [
        "matrics"
      ]
    },
    {
      "cell_type": "code",
      "metadata": {
        "id": "aSWpsjvYwAAS"
      },
      "source": [
        "from sklearn.metrics import confusion_matrix\n",
        "\n",
        "result = classif.predict(legit_test)\n",
        "conf_mat = confusion_matrix(mal_test, result)"
      ],
      "execution_count": 28,
      "outputs": []
    },
    {
      "cell_type": "code",
      "metadata": {
        "colab": {
          "base_uri": "https://localhost:8080/"
        },
        "id": "FHIHdzb3wj2h",
        "outputId": "e6d17e61-e6a2-4a1e-d1a2-94c84a066383"
      },
      "source": [
        "conf_mat.shape"
      ],
      "execution_count": 29,
      "outputs": [
        {
          "output_type": "execute_result",
          "data": {
            "text/plain": [
              "(2, 2)"
            ]
          },
          "metadata": {},
          "execution_count": 29
        }
      ]
    },
    {
      "cell_type": "code",
      "metadata": {
        "colab": {
          "base_uri": "https://localhost:8080/"
        },
        "id": "25CxDxXCwnZT",
        "outputId": "c36faf57-15ba-40cc-e5ea-625cdb09d8cc"
      },
      "source": [
        "type(conf_mat)"
      ],
      "execution_count": 30,
      "outputs": [
        {
          "output_type": "execute_result",
          "data": {
            "text/plain": [
              "numpy.ndarray"
            ]
          },
          "metadata": {},
          "execution_count": 30
        }
      ]
    },
    {
      "cell_type": "code",
      "metadata": {
        "colab": {
          "base_uri": "https://localhost:8080/"
        },
        "id": "W_2roSaYwrK3",
        "outputId": "00871783-ff8c-4298-feab-7fde4dd6ccc3"
      },
      "source": [
        "conf_mat"
      ],
      "execution_count": 31,
      "outputs": [
        {
          "output_type": "execute_result",
          "data": {
            "text/plain": [
              "array([[19200,    87],\n",
              "       [   67,  8256]])"
            ]
          },
          "metadata": {},
          "execution_count": 31
        }
      ]
    },
    {
      "cell_type": "code",
      "metadata": {
        "colab": {
          "base_uri": "https://localhost:8080/"
        },
        "id": "GArLWpItwtiU",
        "outputId": "162ee46c-dbe2-4827-fc2f-4a40f0f5dbe4"
      },
      "source": [
        "print('false positive: ',conf_mat[0][1]/sum(conf_mat[0])*100)\n",
        "print('false negative: ',conf_mat[1][0]/sum(conf_mat[1])*100)"
      ],
      "execution_count": 36,
      "outputs": [
        {
          "output_type": "stream",
          "name": "stdout",
          "text": [
            "false positive:  0.4510810390418417\n",
            "false negative:  0.8049981977652289\n"
          ]
        }
      ]
    },
    {
      "cell_type": "markdown",
      "metadata": {
        "id": "Qoa0DI2jx8zz"
      },
      "source": [
        "Gradiant bossting"
      ]
    },
    {
      "cell_type": "code",
      "metadata": {
        "colab": {
          "base_uri": "https://localhost:8080/"
        },
        "id": "IHzyC5g1xNoe",
        "outputId": "29179ab4-82bb-4d99-8056-80c7e01026f3"
      },
      "source": [
        "from sklearn.ensemble import GradientBoostingClassifier\n",
        "\n",
        "grad_boost = GradientBoostingClassifier(n_estimators=50)\n",
        "grad_boost.fit(legit_train,mal_train)"
      ],
      "execution_count": 38,
      "outputs": [
        {
          "output_type": "execute_result",
          "data": {
            "text/plain": [
              "GradientBoostingClassifier(n_estimators=50)"
            ]
          },
          "metadata": {},
          "execution_count": 38
        }
      ]
    },
    {
      "cell_type": "code",
      "metadata": {
        "colab": {
          "base_uri": "https://localhost:8080/"
        },
        "id": "Tdb5j9EmyYEI",
        "outputId": "76257229-14a7-4eeb-ef7d-caf1e14f5bb4"
      },
      "source": [
        "print(\"The Score of the gradinat boosting classifier is:\", grad_boost.score(legit_test,mal_test)*100)"
      ],
      "execution_count": 39,
      "outputs": [
        {
          "output_type": "stream",
          "name": "stdout",
          "text": [
            "The Score of the gradinat boosting classifier is: 98.8917059036581\n"
          ]
        }
      ]
    },
    {
      "cell_type": "code",
      "metadata": {
        "id": "D-Kmrgk2ytU6"
      },
      "source": [
        ""
      ],
      "execution_count": null,
      "outputs": []
    }
  ]
}